{
 "cells": [
  {
   "cell_type": "code",
   "execution_count": 1,
   "metadata": {},
   "outputs": [],
   "source": [
    "import os"
   ]
  },
  {
   "cell_type": "code",
   "execution_count": 2,
   "metadata": {},
   "outputs": [
    {
     "data": {
      "text/plain": [
       "array([['TIME', 'OUT_T', 'OUT_H', ..., 'FAN_S', 'AC_ST', 'HEATE'],\n",
       "       ['2020-', '22.0', '40.0', ..., '0', '0', '0'],\n",
       "       ['2020-', '22.0', '41.0', ..., '0', '0', '0'],\n",
       "       ...,\n",
       "       ['2020-', '22.0', '40.0', ..., '0', '0', '0'],\n",
       "       ['2020-', '22.0', '40.0', ..., '0', '0', '0'],\n",
       "       ['2020-', '22.0', '37.0', ..., '0', '0', '0']], dtype='<U5')"
      ]
     },
     "execution_count": 2,
     "metadata": {},
     "output_type": "execute_result"
    }
   ],
   "source": [
    "import numpy as np\n",
    "np.genfromtxt('../middleware/data/data.csv',delimiter=',', dtype= \"U5\")"
   ]
  },
  {
   "cell_type": "code",
   "execution_count": 3,
   "metadata": {},
   "outputs": [],
   "source": [
    "import csv \n",
    "\n",
    "def process_metadata(path):\n",
    "    with open(path, 'r', encoding=\"utf-8\") as csvfile:\n",
    "        reader = csv.DictReader(csvfile)\n",
    "        a = list(reader)\n",
    "        return a"
   ]
  },
  {
   "cell_type": "code",
   "execution_count": 4,
   "metadata": {},
   "outputs": [],
   "source": [
    "import pandas as pd\n",
    "def read_data(data_path):\n",
    "    data_frame = pd.read_csv(data_path)\n",
    "    #data_frame = data_frame.set_index(pd.DatetimeIndex(data_frame['TIME']))\n",
    "    #data_frame = data_frame.drop(columns=['icon', 'summary'])\n",
    "    return data_frame"
   ]
  },
  {
   "cell_type": "code",
   "execution_count": 5,
   "metadata": {},
   "outputs": [
    {
     "data": {
      "text/html": [
       "<div>\n",
       "<style scoped>\n",
       "    .dataframe tbody tr th:only-of-type {\n",
       "        vertical-align: middle;\n",
       "    }\n",
       "\n",
       "    .dataframe tbody tr th {\n",
       "        vertical-align: top;\n",
       "    }\n",
       "\n",
       "    .dataframe thead th {\n",
       "        text-align: right;\n",
       "    }\n",
       "</style>\n",
       "<table border=\"1\" class=\"dataframe\">\n",
       "  <thead>\n",
       "    <tr style=\"text-align: right;\">\n",
       "      <th></th>\n",
       "      <th>TIME</th>\n",
       "      <th>OUT_T[*K]</th>\n",
       "      <th>OUT_H[%]</th>\n",
       "      <th>T6[*K]</th>\n",
       "      <th>H6[%]</th>\n",
       "      <th>T12[*K]</th>\n",
       "      <th>H12[%]</th>\n",
       "      <th>T18[*K]</th>\n",
       "      <th>H18[%]</th>\n",
       "      <th>T19[*K]</th>\n",
       "      <th>...</th>\n",
       "      <th>T24[*K]</th>\n",
       "      <th>H24[%]</th>\n",
       "      <th>T25[*K]</th>\n",
       "      <th>H25[%]</th>\n",
       "      <th>T26[*K]</th>\n",
       "      <th>H26[%]</th>\n",
       "      <th>LAMP_STATE</th>\n",
       "      <th>FAN_STATE</th>\n",
       "      <th>AC_STATE</th>\n",
       "      <th>HEATER_STATE</th>\n",
       "    </tr>\n",
       "  </thead>\n",
       "  <tbody>\n",
       "    <tr>\n",
       "      <th>0</th>\n",
       "      <td>2020-01-25 21:01:43.067660</td>\n",
       "      <td>22.0</td>\n",
       "      <td>40.0</td>\n",
       "      <td>23.0</td>\n",
       "      <td>49.0</td>\n",
       "      <td>23.0</td>\n",
       "      <td>47.0</td>\n",
       "      <td>22.0</td>\n",
       "      <td>51.0</td>\n",
       "      <td>24.0</td>\n",
       "      <td>...</td>\n",
       "      <td>22.0</td>\n",
       "      <td>43.0</td>\n",
       "      <td>22.0</td>\n",
       "      <td>46.0</td>\n",
       "      <td>22.0</td>\n",
       "      <td>49.0</td>\n",
       "      <td>0</td>\n",
       "      <td>0</td>\n",
       "      <td>0</td>\n",
       "      <td>0</td>\n",
       "    </tr>\n",
       "    <tr>\n",
       "      <th>1</th>\n",
       "      <td>2020-01-25 21:02:34.293980</td>\n",
       "      <td>22.0</td>\n",
       "      <td>41.0</td>\n",
       "      <td>23.0</td>\n",
       "      <td>49.0</td>\n",
       "      <td>22.0</td>\n",
       "      <td>47.0</td>\n",
       "      <td>22.0</td>\n",
       "      <td>47.0</td>\n",
       "      <td>24.0</td>\n",
       "      <td>...</td>\n",
       "      <td>22.0</td>\n",
       "      <td>42.0</td>\n",
       "      <td>22.0</td>\n",
       "      <td>46.0</td>\n",
       "      <td>22.0</td>\n",
       "      <td>49.0</td>\n",
       "      <td>0</td>\n",
       "      <td>0</td>\n",
       "      <td>0</td>\n",
       "      <td>0</td>\n",
       "    </tr>\n",
       "    <tr>\n",
       "      <th>2</th>\n",
       "      <td>2020-01-25 21:03:35.129048</td>\n",
       "      <td>22.0</td>\n",
       "      <td>41.0</td>\n",
       "      <td>23.0</td>\n",
       "      <td>49.0</td>\n",
       "      <td>22.0</td>\n",
       "      <td>47.0</td>\n",
       "      <td>22.0</td>\n",
       "      <td>47.0</td>\n",
       "      <td>24.0</td>\n",
       "      <td>...</td>\n",
       "      <td>22.0</td>\n",
       "      <td>41.0</td>\n",
       "      <td>22.0</td>\n",
       "      <td>46.0</td>\n",
       "      <td>22.0</td>\n",
       "      <td>49.0</td>\n",
       "      <td>0</td>\n",
       "      <td>0</td>\n",
       "      <td>0</td>\n",
       "      <td>0</td>\n",
       "    </tr>\n",
       "    <tr>\n",
       "      <th>3</th>\n",
       "      <td>2020-01-25 21:04:19.789565</td>\n",
       "      <td>22.0</td>\n",
       "      <td>41.0</td>\n",
       "      <td>23.0</td>\n",
       "      <td>49.0</td>\n",
       "      <td>22.0</td>\n",
       "      <td>47.0</td>\n",
       "      <td>22.0</td>\n",
       "      <td>51.0</td>\n",
       "      <td>24.0</td>\n",
       "      <td>...</td>\n",
       "      <td>22.0</td>\n",
       "      <td>42.0</td>\n",
       "      <td>22.0</td>\n",
       "      <td>46.0</td>\n",
       "      <td>22.0</td>\n",
       "      <td>49.0</td>\n",
       "      <td>0</td>\n",
       "      <td>0</td>\n",
       "      <td>0</td>\n",
       "      <td>0</td>\n",
       "    </tr>\n",
       "    <tr>\n",
       "      <th>4</th>\n",
       "      <td>2020-01-25 21:05:06.430732</td>\n",
       "      <td>22.0</td>\n",
       "      <td>41.0</td>\n",
       "      <td>23.0</td>\n",
       "      <td>49.0</td>\n",
       "      <td>23.0</td>\n",
       "      <td>44.0</td>\n",
       "      <td>22.0</td>\n",
       "      <td>47.0</td>\n",
       "      <td>24.0</td>\n",
       "      <td>...</td>\n",
       "      <td>22.0</td>\n",
       "      <td>42.0</td>\n",
       "      <td>22.0</td>\n",
       "      <td>46.0</td>\n",
       "      <td>22.0</td>\n",
       "      <td>49.0</td>\n",
       "      <td>0</td>\n",
       "      <td>0</td>\n",
       "      <td>0</td>\n",
       "      <td>0</td>\n",
       "    </tr>\n",
       "  </tbody>\n",
       "</table>\n",
       "<p>5 rows × 21 columns</p>\n",
       "</div>"
      ],
      "text/plain": [
       "                         TIME  OUT_T[*K]  OUT_H[%]  T6[*K]  H6[%]  T12[*K]  \\\n",
       "0  2020-01-25 21:01:43.067660       22.0      40.0    23.0   49.0     23.0   \n",
       "1  2020-01-25 21:02:34.293980       22.0      41.0    23.0   49.0     22.0   \n",
       "2  2020-01-25 21:03:35.129048       22.0      41.0    23.0   49.0     22.0   \n",
       "3  2020-01-25 21:04:19.789565       22.0      41.0    23.0   49.0     22.0   \n",
       "4  2020-01-25 21:05:06.430732       22.0      41.0    23.0   49.0     23.0   \n",
       "\n",
       "   H12[%]  T18[*K]  H18[%]  T19[*K]  ...  T24[*K]  H24[%]  T25[*K]  H25[%]  \\\n",
       "0    47.0     22.0    51.0     24.0  ...     22.0    43.0     22.0    46.0   \n",
       "1    47.0     22.0    47.0     24.0  ...     22.0    42.0     22.0    46.0   \n",
       "2    47.0     22.0    47.0     24.0  ...     22.0    41.0     22.0    46.0   \n",
       "3    47.0     22.0    51.0     24.0  ...     22.0    42.0     22.0    46.0   \n",
       "4    44.0     22.0    47.0     24.0  ...     22.0    42.0     22.0    46.0   \n",
       "\n",
       "   T26[*K]  H26[%]  LAMP_STATE  FAN_STATE  AC_STATE  HEATER_STATE  \n",
       "0     22.0    49.0           0          0         0             0  \n",
       "1     22.0    49.0           0          0         0             0  \n",
       "2     22.0    49.0           0          0         0             0  \n",
       "3     22.0    49.0           0          0         0             0  \n",
       "4     22.0    49.0           0          0         0             0  \n",
       "\n",
       "[5 rows x 21 columns]"
      ]
     },
     "execution_count": 5,
     "metadata": {},
     "output_type": "execute_result"
    }
   ],
   "source": [
    "DATASET_PATH = \"../middleware/data\"\n",
    "# DATASET_PATH = \"D:/Thesis draft/code/UCF_ScaledHomeMqtt/middleware/data\"\n",
    "data_file_name = \"data.csv\"\n",
    "# data_file_name = \"data-only-increase.csv\"\n",
    "columns_to_drop = [\"OUT_H[%]\",\"T6[*K]\",\"H6[%]\",\"T12[*K]\",\"H12[%]\",\"T18[*K]\",\n",
    "                  \"H18[%]\",\"T19[*K]\",\"H19[%]\",\"T24[*K]\",\"H24[%]\",\"T25[*K]\",\"H25[%]\",\n",
    "                  \"T26[*K]\",\"H26[%]\",\"FAN_STATE\",\"AC_STATE\",\"HEATER_STATE\"]\n",
    "\n",
    "FMT = '%Y-%m-%d %H:%M:%S.%f'\n",
    "\n",
    "data_path = os.path.join(DATASET_PATH, data_file_name)\n",
    "# print(data_path.replace('/','\\\\'))\n",
    "data = read_data(data_path)\n",
    "data.head()"
   ]
  },
  {
   "cell_type": "code",
   "execution_count": 7,
   "metadata": {},
   "outputs": [
    {
     "name": "stdout",
     "output_type": "stream",
     "text": [
      "Date: 2020-01-25\n",
      "Time: 21:01:43.067660\n",
      "Date-time: 2020-01-25 21:01:43.067660\n"
     ]
    }
   ],
   "source": [
    "import datetime\n",
    "\n",
    "# date_time_str = '2018-06-29 08:15:27.243860'\n",
    "date_time_str = str(data[\"TIME\"][0])\n",
    "date_time_obj = datetime.datetime.strptime(date_time_str, '%Y-%m-%d %H:%M:%S.%f')\n",
    "\n",
    "print('Date:', date_time_obj.date())\n",
    "print('Time:', date_time_obj.time())\n",
    "print('Date-time:', date_time_obj)"
   ]
  },
  {
   "cell_type": "code",
   "execution_count": 11,
   "metadata": {},
   "outputs": [
    {
     "data": {
      "text/plain": [
       "array([    0,    51,   112,   156,   203,   250,   286,   327,   372,\n",
       "         425,   471,   509,   577,   620,   668,   713,   754,   809,\n",
       "         857,   903,   953,  1007,  1061,  1111,  1162,  1222,  1269,\n",
       "        1318,  1365,  1419,  1470,  1523,  1572,  1620,  1663,  1713,\n",
       "        1755,  1798,  1840,  1891,  1936,  1986,  2033,  2079,  2161,\n",
       "        2218,  2271,  2321,  2367,  2413,  2479,  2527,  2573,  2625,\n",
       "        2678,  2733,  2784,  2839,  2887,  2932,  2967,  3008,  3049,\n",
       "        3096,  3145,  3194,  3238,  3282,  3335,  3373,  3424,  3491,\n",
       "        3531,  3587,  3629,  3680,  3721,  3765,  3807,  3859,  3904,\n",
       "        3951,  3986,  4027,  4078,  4121,  4175,  4236,  4284,  4331,\n",
       "        4387,  4434,  4487,  4533,  4585,  4633,  4692,  4734,  4773,\n",
       "        4822,  4870,  4917,  4980,  5033,  5071,  5127,  5177,  5226,\n",
       "        5273,  5351,  5389,  5437,  5481,  5529,  5573,  5615,  5660,\n",
       "        5700,  5775,  5830,  5882,  5924,  5979,  6061,  6110,  6158,\n",
       "        6202,  6252,  6289,  6340,  6387,  6445,  6494,  6532,  6597,\n",
       "        6643,  6696,  6771,  6819,  6866,  6926,  6977,  7020,  7067,\n",
       "        7106,  7148,  7190,  7237,  7285,  7332,  7382,  7430,  7477,\n",
       "        7513,  7564,  7629,  7675,  7726,  7766,  7811,  7864,  7915,\n",
       "        7962,  8007,  8043,  8086,  8134,  8170,  8218,  8269,  8310,\n",
       "        8349,  8392,  8434,  8482,  8547,  8605,  8651,  8685,  8726,\n",
       "        8771,  8830,  8878,  8938,  8987,  9055,  9124,  9188,  9233,\n",
       "        9278,  9327,  9371,  9425,  9478,  9518,  9563,  9606,  9648,\n",
       "        9700,  9747,  9802,  9850,  9907,  9948,  9997, 10039, 10083,\n",
       "       10129, 10181, 10226, 10268, 10307, 10359, 10413, 10463, 10506,\n",
       "       10557, 10595, 10657, 10707, 10752, 10800, 10844, 10893, 10929,\n",
       "       10971, 11012, 11063, 11116, 11168])"
      ]
     },
     "execution_count": 11,
     "metadata": {},
     "output_type": "execute_result"
    }
   ],
   "source": [
    "data1 = data.copy()\n",
    "# for i, j in data1.iterrows(): \n",
    "#     j[0] = datetime.datetime.strptime(j[0], '%Y-%m-%d %H:%M:%S.%f').time()\n",
    "#     print(j[0])\n",
    "\n",
    "def cleanData(data,cols_to_drop):\n",
    "    data_cleaned = data.drop(columns=cols_to_drop)\n",
    "    return data_cleaned\n",
    "    \n",
    "def timeDiffence(data):\n",
    "    time_list = list()\n",
    "    temp_list = list()\n",
    "    \n",
    "    t0 = (data[\"TIME\"][0])\n",
    "    for i, j in data.iterrows(): \n",
    "        el = (datetime.datetime.strptime(j[0], FMT) - datetime.datetime.strptime(t0, FMT)).seconds\n",
    "        time_list.append(el)\n",
    "        temp_list.append(j[1])\n",
    "    return np.array(time_list), np.array(temp_list)\n",
    "    \n",
    "data1 = cleanData(data1,columns_to_drop)\n",
    "time, temp = timeDiffence(data1)\n",
    "# for el in time:\n",
    "#     print (el)"
   ]
  },
  {
   "cell_type": "code",
   "execution_count": 12,
   "metadata": {},
   "outputs": [
    {
     "data": {
      "image/png": "[encoded data removed]",
      "text/plain": [
       "<Figure size 432x288 with 1 Axes>"
      ]
     },
     "metadata": {
      "needs_background": "light"
     },
     "output_type": "display_data"
    }
   ],
   "source": [
    "import matplotlib\n",
    "import matplotlib.pyplot as plt\n",
    "import numpy as np\n",
    "\n",
    "fig, ax = plt.subplots()\n",
    "ax.plot(time, temp)\n",
    "\n",
    "ax.set(xlabel='time (s)', ylabel='temp (°C)',\n",
    "       title='Outside temperature over time')\n",
    "ax.grid()\n",
    "\n",
    "fig.savefig(\"test.png\")\n",
    "plt.show()"
   ]
  },
  {
   "cell_type": "code",
   "execution_count": 28,
   "metadata": {},
   "outputs": [
    {
     "data": {
      "text/plain": [
       "-1101"
      ]
     },
     "execution_count": 28,
     "metadata": {},
     "output_type": "execute_result"
    }
   ],
   "source": [
    "np.argmax(temp)\n",
    "temp[25]\n",
    "\n",
    "np.argmin(temp)\n",
    "temp[13]\n",
    "\n",
    "time_diff_increase = time[13] - time[25]\n",
    "time_diff_increase\n",
    "\n",
    "time_diff_decrease = time[-34] - time[-11]\n",
    "time_diff_decrease\n"
   ]
  },
  {
   "cell_type": "code",
   "execution_count": null,
   "metadata": {},
   "outputs": [],
   "source": []
  }
 ],
 "metadata": {
  "kernelspec": {
   "display_name": "Python 3",
   "language": "python",
   "name": "python3"
  },
  "language_info": {
   "codemirror_mode": {
    "name": "ipython",
    "version": 3
   },
   "file_extension": ".py",
   "mimetype": "text/x-python",
   "name": "python",
   "nbconvert_exporter": "python",
   "pygments_lexer": "ipython3",
   "version": "3.7.4"
  }
 },
 "nbformat": 4,
 "nbformat_minor": 2
}
