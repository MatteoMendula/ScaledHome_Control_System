{
 "cells": [
  {
   "cell_type": "code",
   "execution_count": 14,
   "metadata": {},
   "outputs": [
    {
     "data": {
      "text/plain": [
       "array([0., 1., 1., 0.])"
      ]
     },
     "execution_count": 14,
     "metadata": {},
     "output_type": "execute_result"
    }
   ],
   "source": [
    "import numpy as np\n",
    "a = np.hstack((np.ones(2), np.zeros(2)))\n",
    "np.random.shuffle(a)\n",
    "a"
   ]
  },
  {
   "cell_type": "code",
   "execution_count": 31,
   "metadata": {},
   "outputs": [
    {
     "data": {
      "text/plain": [
       "array([0, 0, 1, 0, 0, 0, 0, 1, 0, 1])"
      ]
     },
     "execution_count": 31,
     "metadata": {},
     "output_type": "execute_result"
    }
   ],
   "source": [
    "np.random.randint(2, size=10)"
   ]
  },
  {
   "cell_type": "code",
   "execution_count": 36,
   "metadata": {},
   "outputs": [],
   "source": [
    "def generateRandomActuatorsActions(n_actuators):\n",
    "    return np.random.randint(2, size=n_actuators)"
   ]
  },
  {
   "cell_type": "code",
   "execution_count": 39,
   "metadata": {},
   "outputs": [],
   "source": [
    "array = generateRandomActuatorsActions(4)"
   ]
  },
  {
   "cell_type": "code",
   "execution_count": 43,
   "metadata": {},
   "outputs": [],
   "source": [
    "def runRandomActions(random_actions):\n",
    "    for i, element in enumerate(random_actions):\n",
    "        print(i, element)"
   ]
  },
  {
   "cell_type": "code",
   "execution_count": 46,
   "metadata": {},
   "outputs": [
    {
     "name": "stdout",
     "output_type": "stream",
     "text": [
      "[0 1 0 1]\n",
      "0 0\n",
      "1 1\n",
      "2 0\n",
      "3 1\n"
     ]
    }
   ],
   "source": [
    "print(array)\n",
    "runRandomActions(array)"
   ]
  },
  {
   "cell_type": "code",
   "execution_count": 52,
   "metadata": {},
   "outputs": [],
   "source": [
    "def switch_demo(argument):\n",
    "    switcher = {\n",
    "        1: \"January\",\n",
    "        2: \"February\",\n",
    "        3: \"March\",\n",
    "        4: \"April\",\n",
    "        5: \"May\",\n",
    "        6: \"June\",\n",
    "        7: \"July\",\n",
    "        8: \"August\",\n",
    "        9: \"September\",\n",
    "        10: \"October\",\n",
    "        11: \"November\",\n",
    "        12: \"December\"\n",
    "    }\n",
    "    #     print (switcher.get(argument, \"Invalid month\"))\n",
    "    print (switcher.get(argument))"
   ]
  },
  {
   "cell_type": "code",
   "execution_count": 54,
   "metadata": {},
   "outputs": [
    {
     "name": "stdout",
     "output_type": "stream",
     "text": [
      "January\n"
     ]
    }
   ],
   "source": [
    "switch_demo(1)"
   ]
  },
  {
   "cell_type": "code",
   "execution_count": 57,
   "metadata": {},
   "outputs": [],
   "source": [
    "def one(a):\n",
    "    return \"January\"+a\n",
    " \n",
    "def two():\n",
    "    return \"February\"\n",
    " \n",
    "def three():\n",
    "    return \"March\"\n",
    " \n",
    "def four():\n",
    "    return \"April\"\n",
    " \n",
    "def five():\n",
    "    return \"May\"\n",
    " \n",
    "def six():\n",
    "    return \"June\"\n",
    " \n",
    "def seven():\n",
    "    return \"July\"\n",
    " \n",
    "def eight():\n",
    "    return \"August\"\n",
    " \n",
    "def nine():\n",
    "    return \"September\"\n",
    " \n",
    "def ten():\n",
    "    return \"October\"\n",
    " \n",
    "def eleven():\n",
    "    return \"November\"\n",
    " \n",
    "def twelve():\n",
    "    return \"December\"\n",
    " \n",
    " \n",
    "def numbers_to_months(argument):\n",
    "    switcher = {\n",
    "        1: one(\"hello\"),\n",
    "        2: two,\n",
    "        3: three,\n",
    "        4: four,\n",
    "        5: five,\n",
    "        6: six,\n",
    "        7: seven,\n",
    "        8: eight,\n",
    "        9: nine,\n",
    "        10: ten,\n",
    "        11: eleven,\n",
    "        12: twelve\n",
    "    }\n",
    "    # Get the function from switcher dictionary\n",
    "    func = switcher.get(argument, lambda: \"Invalid month\")\n",
    "    # Execute the function\n",
    "    print (func())"
   ]
  }
 ],
 "metadata": {
  "kernelspec": {
   "display_name": "Python 3",
   "language": "python",
   "name": "python3"
  },
  "language_info": {
   "codemirror_mode": {
    "name": "ipython",
    "version": 3
   },
   "file_extension": ".py",
   "mimetype": "text/x-python",
   "name": "python",
   "nbconvert_exporter": "python",
   "pygments_lexer": "ipython3",
   "version": "3.7.4"
  }
 },
 "nbformat": 4,
 "nbformat_minor": 2
}
